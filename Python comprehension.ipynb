{
 "cells": [
  {
   "cell_type": "code",
   "execution_count": 2,
   "metadata": {},
   "outputs": [],
   "source": [
    "def count_divisibles_by_217(numbers):\n",
    "    \"\"\"\n",
    "    Write a function that returns the count of divisible numbers by 217. \n",
    "    \n",
    "    You must implement this function to be able to answer next question.\n",
    "    \n",
    "    Lines recommended: 1\n",
    "    \"\"\"\n",
    "    return(len([element for element in numbers if element % 217 == 0 ]))\n"
   ]
  },
  {
   "cell_type": "code",
   "execution_count": 3,
   "metadata": {},
   "outputs": [],
   "source": [
    "def filtered_words(words):\n",
    "    \"\"\"\n",
    "    Write a function that returns the number of words that meet ALL of the following requirements:\n",
    "        - Have MORE than 5 characters.\n",
    "        - Have LESS than 10 characters.\n",
    "        - Contains, at least, a lowercase \"e\".\n",
    "        - Contains, at least, a lowercase \"i\". \n",
    "        - Does not contain any lowercase \"a\".\n",
    "        \n",
    "    You must implement this function to be able to answer next question.\n",
    "    \n",
    "    Lines recommended: 1\n",
    "    \"\"\"\n",
    "    return(len([elements for elements in words if len(elements) > 5 and len(elements) <10 and \"e\" in elements and \"i\" in elements and \"a\" not in elements ]))\n"
   ]
  },
  {
   "cell_type": "code",
   "execution_count": 4,
   "metadata": {},
   "outputs": [],
   "source": [
    "def unique_filtered_words(words):\n",
    "    \"\"\"\n",
    "    Write a function that returns the count of the words that meet all the requirements of the\n",
    "    previous function and that are NOT repeated.\n",
    "    \n",
    "    You must implement this function to be able to answer next question .\n",
    "    \n",
    "    Lines recommended: 1    \n",
    "    \"\"\"\n",
    "    return(len(set([elements for elements in words if len(elements) > 5 and len(elements) <10 and \"e\" in elements and \"i\" in elements and \"a\" not in elements ])))\n",
    "\n",
    "    "
   ]
  },
  {
   "cell_type": "code",
   "execution_count": 5,
   "metadata": {},
   "outputs": [],
   "source": [
    "numbers = ( 772832010, 112418886, 635974421, 740533107, 330259442, 314993216, 514974635, 600220893, 684836296, 107830807, 615935026, 559495413, 231836878, 933854780, 919030029, 376155597, 650420846, 644796429, 810826249, 133705744, 157266478, 866667150, 298625635, 539977016, 485298537, 734401294, 653795858, 258602695, 396549282, 643767641, 933293807, 268478757, 838143001, 419793830, 976781138, 881616917, 258237738, 802871567, 731974635, 827230138, 792588572, 310454522, 222151693, 338980242, 241110069, 882846785, 940795525, 108512153, 888499847, 718954635,)\n",
    "words = [\"Lorem\", \"ipsum\", \"dolor\", \"sit\", \"amet\", \"consectetur\", \"adipiscing\", \"elit\", \"Ut\", \"sit\", \"amet\", \"tincidunt\", \"sapien\", \"Sed\", \"efficitur\", \"molestie\", \"convallis\", \"Integer\", \"ante\", \"lectus\", \"pharetra\", \"nec\", \"hendrerit\", \"at\", \"dapibus\", \"vel\", \"est\", \"Nam\", \"at\", \"ultricies\", \"lorem\", \"Curabitur\", \"accumsan\", \"enim\", \"eu\", \"mollis\", \"condimentum\", \"Ut\", \"iaculis\", \"leo\", \"massa\", \"non\", \"efficitur\", \"sem\", \"aliquet\", \"sed\", \"Sed\", \"iaculis\", \"convallis\", \"dolor\", \"sed\", \"imperdiet\", \"neque\", \"condimentum\", \"ac\", \"Cras\", \"cursus\", \"tortor\", \"eu\", \"ipsum\", \"fringilla\", \"iaculis\", \"Vivamus\", \"sit\", \"amet\", \"venenatis\", \"velit\", \"sit\", \"amet\", \"elementum\", \"orci\", \"Cras\", \"non\", \"vehicula\", \"quam\", \"Nullam\", \"in\", \"ante\", \"id\", \"augue\", \"scelerisque\", \"gravida\", \"eget\", \"faucibus\", \"felis\", \"Duis\", \"vel\", \"purus\", \"blandit\", \"augue\", \"rutrum\", \"pretium\", \"Aenean\", \"ac\", \"semper\", \"ante\", \"Morbi\", \"elementum\", \"felis\", \"quis\", \"dapibus\", \"finibus\", \"ex\", \"purus\", \"rhoncus\", \"ex\", \"at\", \"porttitor\", \"arcu\", \"magna\", \"venenatis\", \"nisi\", \"Duis\", \"tristique\", \"enim\", \"nec\", \"lacus\", \"rhoncus\", \"quis\", \"luctus\", \"orci\", \"laoreet\", \"Curabitur\", \"felis\", \"erat\", \"elementum\", \"in\", \"feugiat\", \"sed\", \"rhoncus\", \"in\", \"diam\", \"Aliquam\", \"a\", \"sapien\", \"gravida\", \"luctus\", \"enim\", \"sed\", \"finibus\", \"risus\", \"Cras\", \"eget\", \"massa\", \"eget\", \"ligula\", \"sagittis\", \"dignissim\", \"Pellentesque\", \"at\", \"egestas\", \"est\", \"Integer\", \"quis\", \"sagittis\", \"magna\", \"Fusce\", \"ut\", \"eros\", \"consequat\", \"est\", \"ullamcorper\", \"scelerisque\", \"in\", \"sit\", \"amet\", \"justo\", \"Nulla\", \"rhoncus\", \"tortor\", \"in\", \"sem\", \"imperdiet\", \"et\", \"commodo\", \"massa\", \"consequat\", \"Donec\", \"ac\", \"libero\", \"semper\", \"rutrum\", \"nisi\", \"ac\", \"efficitur\", \"augue\", \"Suspendisse\", \"potenti\", \"Maecenas\", \"in\", \"velit\", \"lorem\", \"Suspendisse\", \"commodo\", \"odio\", \"vitae\", \"lobortis\", \"suscipit\", \"Quisque\", \"aliquet\", \"sagittis\", \"posuere\", \"Quisque\", \"ut\", \"facilisis\", \"neque\", \"Nullam\", \"nunc\", \"arcu\", \"viverra\", \"mollis\", \"erat\", \"a\", \"luctus\", \"vulputate\", \"velit\", \"Donec\", \"aliquam\", \"tempus\", \"dolor\", \"ac\", \"imperdiet\", \"leo\", \"ultricies\", \"at\", \"Mauris\", \"libero\", \"nibh\", \"pulvinar\", \"vitae\", \"nisl\", \"eu\", \"pulvinar\", \"fermentum\", \"risus\", \"Nunc\", \"posuere\", \"tellus\", \"tempor\", \"lacinia\", \"sollicitudin\", \"diam\", \"ante\", \"sodales\", \"metus\", \"eu\", \"lacinia\", \"libero\", \"ipsum\", \"id\", \"sapien\", \"Sed\", \"in\", \"pulvinar\", \"magna\", \"Phasellus\", \"eget\", \"elit\", \"vestibulum\", \"semper\", \"tellus\", \"ac\", \"bibendum\", \"purus\", \"Nullam\", \"aliquet\", \"nisl\", \"id\", \"massa\", \"lobortis\", \"luctus\", \"Donec\", \"velit\", \"est\", \"placerat\", \"scelerisque\", \"odio\", \"non\", \"vulputate\", \"laoreet\", \"tortor\", \"Phasellus\", \"fringilla\", \"faucibus\", \"turpis\", \"ut\", \"ornare\", \"velit\", \"volutpat\", \"id\", \"Nulla\", \"non\", \"ex\", \"eget\", \"neque\", \"pulvinar\", \"luctus\", \"ac\", \"non\", \"tortor\", \"Vivamus\", \"consectetur\", \"feugiat\", \"risus\", \"ac\", \"aliquet\", \"nunc\", \"scelerisque\", \"luctus\", \"Donec\", \"a\", \"dapibus\", \"tortor\", \"vel\", \"placerat\", \"mauris\", \"Morbi\", \"ante\", \"erat\", \"molestie\", \"eget\", \"interdum\", \"vel\", \"sagittis\", \"vel\", \"velit\", \"Maecenas\", \"vel\", \"rhoncus\", \"metus\", \"a\", \"interdum\", \"ex\", \"Maecenas\", \"faucibus\", \"ipsum\", \"eu\", \"convallis\", \"mollis\", \"Quisque\", \"fermentum\", \"massa\", \"metus\", \"a\", \"ullamcorper\", \"tellus\", \"efficitur\", \"sit\", \"amet\", \"Nullam\", \"aliquam\", \"lorem\", \"a\", \"justo\", \"posuere\", \"non\", \"eleifend\", \"felis\", \"convallis\", \"Mauris\", \"vulputate\", \"nibh\", \"in\", \"magna\", \"pretium\", \"id\", \"tristique\", \"augue\", \"mattis\", \"Mauris\", \"interdum\", \"mauris\", \"at\", \"placerat\", \"scelerisque\", \"sapien\", \"justo\", \"rutrum\", \"tellus\", \"et\", \"tincidunt\", \"quam\", \"eros\", \"vel\", \"ex\", \"Sed\", \"in\", \"turpis\", \"et\", \"diam\", \"mattis\", \"tempus\", \"Nullam\", \"ultricies\", \"porttitor\", \"lectus\", \"nec\", \"imperdiet\", \"Maecenas\", \"sit\", \"amet\", \"nisi\", \"bibendum\", \"euismod\", \"diam\", \"id\", \"dictum\", \"lectus\", \"Ut\", \"condimentum\", \"turpis\", \"quis\", \"felis\", \"hendrerit\", \"sed\", \"scelerisque\", \"ante\", \"venenatis\", \"Pellentesque\", \"in\", \"mi\", \"eget\", \"eros\", \"molestie\", \"sagittis\", \"ut\", \"et\", \"erat\", \"Pellentesque\", \"at\", \"mi\", \"est\", \"Suspendisse\", \"sed\", \"iaculis\", \"leo\", \"Nulla\", \"vitae\", \"magna\", \"at\", \"lorem\", \"malesuada\", \"rhoncus\", \"Aenean\", \"sed\", \"massa\", \"augue\", \"Aliquam\", \"erat\", \"volutpat\", \"Duis\", \"erat\", \"magna\", \"hendrerit\", \"eu\", \"tincidunt\", \"vitae\", \"suscipit\", \"sit\", \"amet\", \"ex\", \"Sed\", \"aliquam\", \"odio\", \"eu\", \"purus\", \"eleifend\", \"efficitur\", \"hendrerit\", \"nibh\", \"condimentum\", \"Aenean\", \"ultrices\", \"nisl\", \"sit\", \"amet\", \"nibh\", \"venenatis\", \"eleifend\", \"Sed\", \"viverra\", \"eros\", \"quis\", \"rhoncus\", \"placerat\", \"velit\", \"est\", \"maximus\", \"elit\", \"sed\", \"mollis\", \"ex\", \"sapien\", \"nec\", \"mi\", \"Duis\", \"id\", \"nisl\", \"diam\", \"Pellentesque\", \"habitant\", \"morbi\", \"tristique\", \"senectus\", \"et\", \"netus\", \"et\", \"malesuada\", \"fames\", \"ac\", \"turpis\", \"egestas\", \"Mauris\", \"scelerisque\", \"nisl\", \"eget\", \"mattis\", \"tincidunt\", \"ligula\", \"lacus\", \"accumsan\", \"augue\", \"vitae\", \"hendrerit\", \"metus\", \"dui\", \"at\", \"tortor\", \"Sed\", \"eu\", \"ornare\", \"turpis\", \"Fusce\", \"sit\", \"amet\", \"sapien\", \"enim\", \"Aliquam\", \"ac\", \"elementum\", \"magna\", \"Proin\", \"sit\", \"amet\", \"velit\", \"varius\", \"ultrices\", \"urna\", \"quis\", \"scelerisque\", \"lacus\", \"Cras\", \"tincidunt\", \"enim\", \"id\", \"euismod\", \"lobortis\", \"Mauris\", \"bibendum\", \"sapien\", \"non\", \"tempor\", \"posuere\", \"Sed\", \"ut\", \"accumsan\", \"purus\", \"Duis\", \"maximus\", \"interdum\", \"porttitor\", \"Proin\", \"sagittis\", \"ligula\", \"in\", \"dapibus\", \"pulvinar\", \"mi\", \"felis\", \"vehicula\", \"urna\", \"at\", \"suscipit\", \"leo\", \"nunc\", \"eget\", \"sem\", \"Aenean\", \"dolor\", \"nunc\", \"dictum\", \"sed\", \"diam\", \"nec\", \"pharetra\", \"gravida\", \"neque\", \"Nam\", \"convallis\", \"justo\", \"sit\", \"amet\", \"ultrices\", \"condimentum\", \"Cras\", \"ullamcorper\", \"ut\", \"risus\", \"in\", \"consequat\", \"Etiam\", \"fringilla\", \"felis\", \"in\", \"nulla\", \"cursus\", \"molestie\", \"Sed\", \"pulvinar\", \"mauris\", \"nec\", \"consectetur\", \"ullamcorper\", \"Morbi\", \"ac\", \"rhoncus\", \"nisi\", \"Cras\", \"sit\", \"amet\", \"sapien\", \"quis\", \"ex\", \"facilisis\", \"convallis\", \"Phasellus\", \"et\", \"est\", \"ut\", \"urna\", \"ullamcorper\", \"ornare\", \"a\", \"non\", \"nunc\", \"Curabitur\", \"bibendum\", \"consequat\", \"enim\", \"ut\", \"consectetur\", \"Mauris\", \"viverra\", \"neque\", \"fermentum\", \"nunc\", \"posuere\", \"imperdiet\", \"Nulla\", \"lacinia\", \"dignissim\", \"quam\", \"id\", \"tempor\", \"nunc\", \"mollis\", \"nec\", \"Duis\", \"nec\", \"tortor\", \"et\", \"ipsum\", \"suscipit\", \"ullamcorper\", \"facilisis\", \"ut\", \"lorem\", \"Suspendisse\", \"id\", \"lacus\", \"in\", \"nisi\", \"viverra\", \"fermentum\", \"non\", \"ac\", \"tellus\", \"Class\", \"aptent\", \"taciti\", \"sociosqu\", \"ad\", \"litora\", \"torquent\", \"per\", \"conubia\", \"nostra\", \"per\", \"inceptos\", \"himenaeos\", \"Sed\", \"est\", \"erat\", \"consequat\", \"non\", \"est\", \"ac\", \"vestibulum\", \"vestibulum\", \"neque\", \"Proin\", \"sodales\", \"dolor\", \"at\", \"pellentesque\", \"mollis\", \"orci\", \"sapien\", \"malesuada\", \"erat\", \"at\", \"semper\", \"neque\", \"est\", \"et\", \"arcu\", \"Cras\", \"facilisis\", \"iaculis\", \"nunc\", \"id\", \"posuere\", \"Sed\", \"eu\", \"luctus\", \"lectus\", \"eu\", \"congue\", \"ante\", \"Etiam\", \"accumsan\", \"ultrices\", \"elementum\", \"Nunc\", \"sollicitudin\", \"sit\", \"amet\", \"quam\", \"quis\", \"luctus\", \"Etiam\", \"egestas\", \"felis\", \"efficitur\", \"egestas\", \"purus\", \"nec\", \"egestas\", \"turpis\", \"Ut\", \"convallis\", \"dolor\", \"quis\", \"ligula\", \"sagittis\", \"lobortis\", \"Etiam\", \"ut\", \"nulla\", \"a\", \"turpis\", \"posuere\", \"tempus\", \"Mauris\", \"purus\", \"tortor\", \"tempus\", \"eget\", \"turpis\", \"in\", \"ultricies\", \"viverra\", \"massa\", \"Nunc\", \"sagittis\", \"nunc\", \"vitae\", \"neque\", \"semper\", \"finibus\", \"Pellentesque\", \"habitant\", \"morbi\", \"tristique\", \"senectus\", \"et\", \"netus\", \"et\", \"malesuada\", \"fames\", \"ac\", \"turpis\", \"egestas\", \"Pellentesque\", \"eget\", \"lacus\", \"nulla\", \"Sed\", \"posuere\", \"sem\", \"sed\", \"sapien\", \"tempus\", \"faucibus\", \"eu\", \"vel\", \"mauris\", \"Vestibulum\", \"consectetur\", \"ligula\", \"a\", \"malesuada\", \"vestibulum\", \"velit\", \"nulla\", \"volutpat\", \"ante\", \"in\", \"porta\", \"libero\", \"metus\", \"in\", \"dui\", \"Donec\", \"aliquet\", \"elit\", \"in\", \"ante\", \"tempus\", \"a\", \"tincidunt\", \"quam\", \"posuere\", \"Maecenas\", \"sit\", \"amet\", \"varius\", \"justo\", \"ac\", \"cursus\", \"augue\", \"Suspendisse\", \"nec\", \"lacinia\", \"libero\", \"Cras\", \"vitae\", \"libero\", \"nec\", \"ex\", \"finibus\", \"fringilla\", \"Suspendisse\", \"eget\", \"tristique\", \"nisi\", \"in\", \"pellentesque\", \"nisi\", \"Morbi\", \"volutpat\", \"congue\", \"placerat\", \"Nullam\", \"vel\", \"luctus\", \"turpis\", \"Vestibulum\", \"ante\", \"ipsum\", \"primis\", \"in\", \"faucibus\", \"orci\", \"luctus\", \"et\", \"ultrices\", \"posuere\", \"cubilia\", \"Curae;\", \"Sed\", \"vel\", \"cursus\", \"arcu\", \"vulputate\", \"maximus\", \"dui\", \"Suspendisse\", \"in\", \"dolor\", \"erat\", \"Sed\", \"placerat\", \"pellentesque\", \"eros\", \"sit\", \"amet\", \"posuere\", \"neque\", \"egestas\", \"ut\", \"Mauris\", \"mattis\", \"cursus\", \"tempor\", \"Cras\", \"vulputate\", \"mattis\", \"risus\", \"vitae\", \"tincidunt\", \"Nunc\", \"sed\", \"ornare\", \"lorem\", \"eu\", \"faucibus\", \"nunc\", \"Quisque\", \"cursus\", \"aliquet\", \"dolor\", \"non\", \"mollis\", \"Duis\", \"eu\", \"convallis\", \"arcu\", \"Nunc\", \"id\", \"tortor\", \"nec\", \"erat\", \"pulvinar\", \"aliquam\", \"quis\", \"quis\", \"metus\", \"Nullam\", \"eget\", \"ex\", \"at\", \"quam\", \"eleifend\", \"semper\", \"vitae\", \"ut\", \"quam\", \"Nulla\", \"ullamcorper\", \"urna\", \"in\", \"faucibus\", \"auctor\", \"Duis\", \"felis\", \"ipsum\", \"porttitor\", \"ac\", \"leo\", \"sollicitudin\", \"porta\", \"varius\", \"orci\", \"Morbi\", \"eu\", \"velit\", \"eget\", \"elit\", \"faucibus\", \"bibendum\", \"Nullam\", \"finibus\", \"euismod\", \"orci\", \"eget\", \"faucibus\", \"mi\", \"sodales\", \"ac\", \"In\", \"ultrices\", \"nulla\", \"eu\", \"neque\", \"mollis\", \"ornare\", \"Praesent\", \"luctus\", \"neque\", \"at\", \"condimentum\", \"accumsan\", \"Maecenas\", \"auctor\", \"semper\", \"sodales\", \"Maecenas\", \"consectetur\", \"neque\", \"ut\", \"ipsum\", \"posuere\", \"sed\", \"vulputate\", \"tortor\", \"pretium\", \"Mauris\", \"faucibus\", \"massa\", \"non\", \"condimentum\", \"commodo\", \"lorem\", \"erat\", \"vestibulum\", \"augue\", \"at\", \"rutrum\", \"ante\", \"libero\", \"at\", \"felis\", \"Nam\", \"vestibulum\", \"consequat\", \"malesuada\", \"Maecenas\", \"laoreet\", \"pellentesque\", \"nibh\", \"a\", \"suscipit\", \"elit\", \"faucibus\", \"non\", \"Maecenas\", \"eleifend\", \"sem\", \"sit\", \"amet\", \"laoreet\", \"egestas\", \"Fusce\", \"sed\", \"risus\", \"lorem\", \"Donec\", \"aliquet\", \"hendrerit\", \"urna\", \"sit\", \"amet\", \"viverra\", \"ante\", \"maximus\", \"et\", \"Aenean\", \"lorem\", \"magna\", \"consectetur\", \"at\", \"ex\", \"vel\", \"pulvinar\", \"malesuada\", \"neque\", \"Nunc\", \"dapibus\", \"ex\", \"nec\", \"bibendum\", \"venenatis\", \"nunc\", \"enim\", \"volutpat\", \"ante\", \"non\", \"consequat\", \"turpis\", \"nisl\", \"vel\", \"lorem\", \"Nullam\", \"id\", \"ligula\", \"libero\", \"Nullam\", \"ac\", \"pharetra\", \"lacus\", \"Vestibulum\", \"scelerisque\", \"ac\", \"erat\", \"at\", \"sodales\", \"Donec\", \"ultricies\", \"erat\", \"id\", \"nisl\", \"interdum\", \"ultrices\", \"Etiam\", \"nulla\", \"nisi\", \"laoreet\", \"quis\", \"venenatis\", \"nec\", \"fermentum\", \"sed\", \"dolor\", \"In\", \"id\", \"dictum\", \"ante\", \"Integer\", \"porta\", \"nulla\", \"nisi\", \"ornare\", \"fringilla\", \"augue\", \"lacinia\", \"convallis\", \"Fusce\", \"urna\", \"velit\", \"sodales\", \"eu\", \"dictum\", \"vel\", \"aliquet\", \"vel\", \"eros\", \"Vestibulum\", \"sapien\", \"tortor\", \"sagittis\", \"sed\", \"nisl\", \"ut\", \"mollis\", \"pretium\", \"augue\", \"Vivamus\", \"quis\", \"lorem\", \"eget\", \"dolor\", \"interdum\", \"convallis\", \"at\", \"eu\", \"sem\", \"Maecenas\", \"sem\", \"elit\", \"malesuada\", \"et\", \"consectetur\", \"eget\", \"porttitor\", \"at\", \"orci\", \"Etiam\", \"hendrerit\", \"eros\", \"sed\", \"iaculis\", \"imperdiet\", \"Proin\", \"non\", \"imperdiet\", \"mi\", \"nec\", \"posuere\", \"lorem\", \"Quisque\", \"mollis\", \"enim\", \"ut\", \"cursus\", \"venenatis\", \"Aliquam\", \"erat\", \"volutpat\", \"Vestibulum\", \"congue\", \"erat\", \"sem\", \"interdum\", \"tincidunt\", \"tellus\", \"fermentum\", \"sed\", \"Orci\", \"varius\", \"natoque\", \"penatibus\", \"et\", \"magnis\", \"dis\", \"parturient\", \"montes\", \"nascetur\", \"ridiculus\", \"mus\", \"Pellentesque\", \"mollis\", \"vel\", \"elit\", \"vitae\", \"imperdiet\", \"Integer\", \"finibus\", \"urna\", \"eu\", \"leo\", \"rhoncus\", \"et\", \"semper\", \"metus\", \"lobortis\", \"Vivamus\", \"sollicitudin\", \"neque\", \"at\", \"commodo\", \"aliquet\", \"Phasellus\", \"volutpat\", \"bibendum\", \"ultrices\", \"Nunc\", \"luctus\", \"malesuada\", \"ante\", \"non\", \"tincidunt\", \"Aenean\", \"non\", \"nunc\", \"elit\", \"Proin\", \"sem\", \"risus\", \"pellentesque\", \"eu\", \"ipsum\", \"id\", \"sollicitudin\", \"dictum\", \"arcu\", \"Donec\", \"pharetra\", \"mi\", \"ut\", \"consequat\", \"interdum\", \"Cras\", \"pharetra\", \"enim\", \"orci\", \"viverra\", \"ornare\", \"dolor\", \"dictum\", \"ac\", \"Maecenas\", \"sagittis\", \"dui\", \"et\", \"facilisis\", \"accumsan\", \"Nullam\", \"ante\", \"arcu\", \"fringilla\", \"quis\", \"hendrerit\", \"vitae\", \"bibendum\", \"vel\", \"dolor\", \"Donec\", \"mattis\", \"consequat\", \"neque\", \"vel\", \"mollis\", \"felis\", \"tincidunt\", \"sed\", \"Donec\", \"bibendum\", \"est\", \"a\", \"egestas\", \"fringilla\", \"tellus\", \"nibh\", \"scelerisque\", \"orci\", \"in\", \"venenatis\", \"eros\", \"ligula\", \"ac\", \"velit\", \"Nullam\", \"condimentum\", \"nulla\", \"in\", \"luctus\", \"tincidunt\", \"massa\", \"justo\", \"scelerisque\", \"erat\", \"in\", \"fermentum\", \"magna\", \"sapien\", \"sit\", \"amet\", \"ex\", \"Nunc\", \"sed\", \"egestas\", \"felis\", \"Aliquam\", \"varius\", \"tellus\", \"quis\", \"nisl\", \"elementum\", \"laoreet\", \"Cras\", \"in\", \"viverra\", \"sem\", \"Suspendisse\", \"gravida\", \"nibh\", \"ac\", \"tempor\", \"euismod\"]"
   ]
  },
  {
   "cell_type": "code",
   "execution_count": 6,
   "metadata": {},
   "outputs": [
    {
     "name": "stdout",
     "output_type": "stream",
     "text": [
      "The answer  is 5\n"
     ]
    }
   ],
   "source": [
    "print(\"The answer  is {}\".format(count_divisibles_by_217(numbers)))"
   ]
  },
  {
   "cell_type": "code",
   "execution_count": 7,
   "metadata": {},
   "outputs": [
    {
     "name": "stdout",
     "output_type": "stream",
     "text": [
      "The answer is 89\n"
     ]
    }
   ],
   "source": [
    "print(\"The answer is {}\".format(filtered_words(words)))"
   ]
  },
  {
   "cell_type": "code",
   "execution_count": 8,
   "metadata": {},
   "outputs": [
    {
     "name": "stdout",
     "output_type": "stream",
     "text": [
      "The answer is 16\n"
     ]
    }
   ],
   "source": [
    "print(\"The answer is {}\".format(unique_filtered_words(words)))"
   ]
  },
  {
   "cell_type": "code",
   "execution_count": null,
   "metadata": {},
   "outputs": [],
   "source": []
  }
 ],
 "metadata": {
  "kernelspec": {
   "display_name": "Python 3",
   "language": "python",
   "name": "python3"
  },
  "language_info": {
   "codemirror_mode": {
    "name": "ipython",
    "version": 3
   },
   "file_extension": ".py",
   "mimetype": "text/x-python",
   "name": "python",
   "nbconvert_exporter": "python",
   "pygments_lexer": "ipython3",
   "version": "3.7.1"
  }
 },
 "nbformat": 4,
 "nbformat_minor": 2
}
