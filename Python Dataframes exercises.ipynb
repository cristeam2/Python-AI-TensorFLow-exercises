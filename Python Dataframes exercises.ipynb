{
 "cells": [
  {
   "cell_type": "code",
   "execution_count": 149,
   "metadata": {},
   "outputs": [],
   "source": [
    "import pandas as pd\n",
    "import numpy as np\n"
   ]
  },
  {
   "cell_type": "code",
   "execution_count": 150,
   "metadata": {},
   "outputs": [
    {
     "name": "stdout",
     "output_type": "stream",
     "text": [
      "\n",
      "df1\n",
      "    A   B    C    D    E          F\n",
      "0  YA  JR  542   99  368 2019-07-11\n",
      "1  XB  ES  951  417  531 2019-04-29\n",
      "2  FI  JO  844  210    1 2019-08-14\n",
      "3  VR  EJ  846  437  160 2019-11-17\n",
      "4  HY  ZH  670  236  630 2019-02-11\n",
      "\n",
      "df2\n",
      "    A   B    C    D    E          F\n",
      "0  MI  GG  174   97   98 2019-12-25\n",
      "1  MT  BF  108  184  149 2019-03-16\n",
      "2  LS  QP   15   79   34 2019-01-10\n",
      "3  NU  NZ  194  101  126 2019-09-23\n",
      "4  AQ  KZ  128   76  144 2019-05-01\n",
      "\n"
     ]
    }
   ],
   "source": [
    "df1 = pd.DataFrame({\n",
    "    \"A\": ['YA', 'XB', 'FI', 'VR', 'HY', 'OQ', 'AE', 'EH', 'YI', 'GG', 'BF', 'XU', 'NC', 'TC', 'MV', 'QV', 'PQ', 'IU', 'BO', 'IO', 'ZF', 'UV', 'EA', 'TM', 'CH', 'NV', 'QM', 'ON', 'EL', 'LK', 'KQ', 'LU', 'PD', 'HS', 'YO'],\n",
    "    \"B\": ['JR', 'ES', 'JO', 'EJ', 'ZH', 'KF', 'OW', 'WB', 'RU', 'FU', 'UM', 'JS', 'QD', 'NB', 'IV', 'GP', 'SU', 'CV', 'XH', 'PY', 'JP', 'WT', 'GL', 'QO', 'ME', 'YE', 'PR', 'PL', 'HA', 'YM', 'EN', 'DL', 'JD', 'YV', 'XJ'],\n",
    "    \"C\": [542, 951, 844, 846, 670, 375, 518, 820, 194, 698, 916, 117, 93, 787, 290, 10, 390, 796, 485, 667, 42, 86, 248, 663, 904, 851, 332, 579, 9, 22, 830, 340, 842, 278, 897],\n",
    "    \"D\": [99, 417, 210, 437, 236, 447, 404, 854, 691, 212, 748, 338, 63, 208, 650, 617, 341, 654, 187, 600, 195, 31, 222, 101, 540, 293, 505, 474, 336, 937, 624, 908, 536, 295, 695],\n",
    "    \"E\": [368, 531, 1, 160, 630, 253, 434, 536, 326, 83, 975, 321, 47, 157, 693, 206, 939, 156, 942, 846, 629, 508, 69, 490, 6, 366, 56, 383, 882, 105, 299, 771, 537, 170, 264],\n",
    "    \"F\": pd.to_datetime(['2019-07-11', '2019-04-29', '2019-08-14', '2019-11-17','2019-02-11', '2019-09-27', '2019-04-26', '2019-05-22','2019-03-11', '2019-11-01', '2019-06-05', '2019-08-03',               '2019-07-20', '2019-09-11', '2019-12-20', '2019-02-10',               '2019-08-09', '2019-01-31', '2019-09-17', '2019-10-30',               '2019-05-16', '2019-05-31', '2019-01-29', '2019-09-14',               '2019-02-02', '2019-01-09', '2019-09-03', '2019-05-21',               '2019-10-18', '2019-11-15', '2019-12-31', '2019-08-25',               '2019-03-06', '2019-02-20', '2019-09-10']),\n",
    "})\n",
    "\n",
    "df2 = pd.DataFrame({\n",
    "    \"A\": ['MI', 'MT', 'LS', 'NU', 'AQ', 'WQ', 'YP', 'HV', 'SM', 'JP', 'FD', 'NH', 'VL', 'SZ', 'OK', 'QO', 'ZP', 'KL', 'PB', 'AV', 'GB', 'FM', 'BY', 'TY', 'YM', 'WL', 'HO', 'EH', 'GG', 'TW', 'EB', 'FS', 'CP', 'WP', 'HW', 'CJ', 'GV', 'YG', 'OX', 'VO', 'YH', 'WG'],\n",
    "    \"B\": ['GG', 'BF', 'QP', 'NZ', 'KZ', 'AT', 'PU', 'HS', 'LP', 'DW', 'ZG', 'ST', 'PW', 'PO', 'VN', 'EW', 'TJ', 'FP', 'RY', 'VG', 'XZ', 'XX', 'CM', 'NX', 'HG', 'KH', 'UE', 'NV', 'VB', 'BJ', 'LH', 'SI', 'MV', 'YP', 'BA', 'QS', 'ZJ', 'YL', 'HR', 'DN', 'LB', 'PR'],\n",
    "    \"C\": [174, 108, 15, 194, 128, 148, 101, 53, 14, 175, 152, 52, 33, 178, 170, 93, 4, 193, 10, 7, 116, 0, 49, 61, 63, 21, 127, 89, 17, 66, 107, 144, 70, 131, 88, 156, 169, 100, 35, 182, 158, 154],\n",
    "    \"D\": [97, 184, 79, 101, 76, 169, 36, 173, 122, 112, 29, 34, 137, 164, 82, 179, 11, 62, 187, 49, 23, 7, 83, 48, 136, 21, 117, 106, 198, 180, 109, 182, 3, 120, 191, 133, 37, 55, 96, 199, 40, 155],\n",
    "    \"E\": [98, 149, 34, 126, 144, 11, 85, 164, 175, 82, 172, 179, 192, 170, 57, 99, 166, 33, 45, 127, 174, 184, 90, 25, 3, 8, 52, 48, 62, 22, 36, 71, 113, 150, 44, 16, 101, 64, 151, 43, 13, 23],\n",
    "    \"F\": pd.to_datetime(['2019-12-25', '2019-03-16', '2019-01-10', '2019-09-23',               '2019-05-01', '2019-06-23', '2019-09-02', '2019-05-11',               '2019-06-04', '2019-06-15', '2019-08-27', '2019-01-16',               '2019-04-14', '2019-04-01', '2019-06-03', '2019-02-13',               '2019-08-08', '2019-03-12', '2019-12-23', '2019-01-21',               '2019-12-24', '2019-08-30', '2019-12-20', '2019-03-02',               '2019-10-04', '2019-04-02', '2019-05-07', '2019-09-18',               '2019-05-06', '2019-10-14', '2019-06-10', '2019-11-04',               '2019-08-16', '2019-04-16', '2019-05-26', '2019-10-05',               '2019-01-22', '2019-03-30', '2019-09-04', '2019-12-22',               '2019-06-06', '2019-08-11']),\n",
    "})\n",
    "\n",
    "print(\"\"\"\n",
    "df1\n",
    "{}\n",
    "\n",
    "df2\n",
    "{}\n",
    "\"\"\".format(\n",
    "    df1.head(), \n",
    "    df2.head(),\n",
    ")\n",
    "          )"
   ]
  },
  {
   "cell_type": "code",
   "execution_count": 151,
   "metadata": {},
   "outputs": [
    {
     "name": "stdout",
     "output_type": "stream",
     "text": [
      "The answer to question 8 is [242.33333333333334, 411.0, 408.0, 110.33333333333333, 142.33333333333334, 61.333333333333336]\n"
     ]
    }
   ],
   "source": [
    "def question8(df1, df2):\n",
    "    \"\"\"\n",
    "    Write a function that returns a list with the MEANS of the columns of the data frame resulting from the \n",
    "    intersection between column B of df1 and column A of df2.\n",
    "     \n",
    "    \"\"\"\n",
    " \n",
    "    return df1.merge(df2, left_on=\"B\",right_on=\"A\").mean().tolist()\n",
    "    \n",
    "    \n",
    "print(\"The answer to question 8 is {}\".format(question8(df1, df2)))"
   ]
  },
  {
   "cell_type": "code",
   "execution_count": 152,
   "metadata": {},
   "outputs": [
    {
     "name": "stdout",
     "output_type": "stream",
     "text": [
      "The answer to question 9 is [488.75, 341.8333333333333, 384.0833333333333]\n"
     ]
    }
   ],
   "source": [
    "def question9(df):\n",
    "    \"\"\"\n",
    "    Write a function that returns a list the means for each column for the third quarter of the year according\n",
    "    column F.\n",
    "    \"\"\" \n",
    "    #print(df.groupby(df.F.dt.quarter).mean())\n",
    "    #d=df.copy()\n",
    "    #d=df.set_index(\"F\")\n",
    "    #print(d.loc['2019-07-01':'2019-09-30'].mean().tolist())\n",
    "    \n",
    "    return df.groupby(df.F.dt.quarter).mean().loc[3].tolist()\n",
    "        \n",
    "    \n",
    "print(\"The answer to question 9 is {}\".format(question9(df1)))"
   ]
  },
  {
   "cell_type": "code",
   "execution_count": 153,
   "metadata": {},
   "outputs": [
    {
     "name": "stdout",
     "output_type": "stream",
     "text": [
      "The answer to quiestion 10 is 170.66666666666666\n"
     ]
    }
   ],
   "source": [
    "def question10(df):\n",
    "    \"\"\"\n",
    "    Write a function that calculates the means for columns C, D and E for each row and return only the \n",
    "    maximum value.\n",
    "    \"\"\" \n",
    "    dfcp = df.copy()\n",
    "    dfcp[[\"Mean\"]] = df.apply(lambda a: a[[\"C\", \"D\", \"E\"]].agg([np.mean]), axis=1, result_type=\"expand\")\n",
    "    \n",
    "    \n",
    "    return dfcp[\"Mean\"].max()\n",
    "\n",
    "    \n",
    "print(\"The answer to quiestion 10 is {}\".format(question10(df2)))"
   ]
  },
  {
   "cell_type": "code",
   "execution_count": null,
   "metadata": {},
   "outputs": [],
   "source": []
  }
 ],
 "metadata": {
  "kernelspec": {
   "display_name": "Python 3",
   "language": "python",
   "name": "python3"
  },
  "language_info": {
   "codemirror_mode": {
    "name": "ipython",
    "version": 3
   },
   "file_extension": ".py",
   "mimetype": "text/x-python",
   "name": "python",
   "nbconvert_exporter": "python",
   "pygments_lexer": "ipython3",
   "version": "3.6.5"
  }
 },
 "nbformat": 4,
 "nbformat_minor": 2
}
