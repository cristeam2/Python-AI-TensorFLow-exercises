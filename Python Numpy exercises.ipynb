{
 "cells": [
  {
   "cell_type": "markdown",
   "metadata": {},
   "source": [
    "# Execute the cell under this first"
   ]
  },
  {
   "cell_type": "code",
   "execution_count": 1,
   "metadata": {},
   "outputs": [
    {
     "data": {
      "text/plain": [
       "array([[73, 35, 72,  5, 19,  4,  2, 32, 81, 90],\n",
       "       [36, 78, 43, 86, 67,  3, 44, 24, 70, 40],\n",
       "       [ 3, 20, 34, 14, 13, 74, 44, 56, 72, 69],\n",
       "       [ 7,  5, 55, 52, 18, 45, 20,  8, 64, 86],\n",
       "       [58, 67, 80, 72, 87, 13, 40, 86, 94, 89],\n",
       "       [63, 90, 95, 52, 27, 65, 68, 33, 53, 84],\n",
       "       [31, 56, 46,  5, 32, 49, 10, 91, 75, 53],\n",
       "       [22, 94, 24,  6, 92, 77, 32, 59, 92,  7],\n",
       "       [18, 42, 20, 35, 62, 39, 88, 22, 48, 96],\n",
       "       [44, 37, 69, 68, 42, 23, 52, 16, 63, 64]])"
      ]
     },
     "execution_count": 1,
     "metadata": {},
     "output_type": "execute_result"
    }
   ],
   "source": [
    "import numpy as np\n",
    "\n",
    "\n",
    "\n",
    "nums = np.array([[73, 35, 72,  5, 19,  4,  2, 32, 81, 90],\n",
    "       [36, 78, 43, 86, 67,  3, 44, 24, 70, 40],\n",
    "       [ 3, 20, 34, 14, 13, 74, 44, 56, 72, 69],\n",
    "       [ 7,  5, 55, 52, 18, 45, 20,  8, 64, 86],\n",
    "       [58, 67, 80, 72, 87, 13, 40, 86, 94, 89],\n",
    "       [63, 90, 95, 52, 27, 65, 68, 33, 53, 84],\n",
    "       [31, 56, 46,  5, 32, 49, 10, 91, 75, 53],\n",
    "       [22, 94, 24,  6, 92, 77, 32, 59, 92,  7],\n",
    "       [18, 42, 20, 35, 62, 39, 88, 22, 48, 96],\n",
    "       [44, 37, 69, 68, 42, 23, 52, 16, 63, 64]])\n",
    "\n",
    "nums\n"
   ]
  },
  {
   "cell_type": "markdown",
   "metadata": {},
   "source": [
    "\n"
   ]
  },
  {
   "cell_type": "code",
   "execution_count": 2,
   "metadata": {},
   "outputs": [
    {
     "name": "stdout",
     "output_type": "stream",
     "text": [
      "The answer is 42.7\n"
     ]
    }
   ],
   "source": [
    "######## EDIT THIS BLOCK OF CODE\n",
    "\n",
    "# Create a numpy array called \"means\" with the means of the columns of nums array\n",
    "means=nums.mean(axis=0) \n",
    "\n",
    "######## END EDIT BLOCK\n",
    "\n",
    "print(\"The answer is {}\".format(means[-3]))"
   ]
  },
  {
   "cell_type": "code",
   "execution_count": 3,
   "metadata": {},
   "outputs": [
    {
     "name": "stdout",
     "output_type": "stream",
     "text": [
      "The answer  is 165\n"
     ]
    }
   ],
   "source": [
    "######## EDIT THIS BLOCK OF CODE\n",
    "\n",
    "# Create a numpy array called no_under_10 with the same values than nums but those that are strictly under 10, \n",
    "# that must have the same value plus 10 (I.E. 9 -> 19) \n",
    "def no_under_10(nums):\n",
    "    #print(nums>10)\n",
    "    return_columns=nums < 10\n",
    "    #print(nums)\n",
    "    #print(nums[return_columns])\n",
    "    array= np.array([nums[return_columns]+10])\n",
    "    #print(np.array([nums[nums<10]+10]).sum())\n",
    "    #print(array)\n",
    "    return(array)\n",
    "######## END EDIT BLOCK\n",
    "print(\"The answer  is {}\".format(no_under_10(nums).sum()))"
   ]
  },
  {
   "cell_type": "code",
   "execution_count": 4,
   "metadata": {},
   "outputs": [
    {
     "name": "stdout",
     "output_type": "stream",
     "text": [
      "The answer is [5, 20, 32, 44, 52, 72, 86]\n",
      "Populating the interactive namespace from numpy and matplotlib\n"
     ]
    },
    {
     "data": {
      "image/png": "[encoded data removed]",
      "text/plain": [
       "<Figure size 432x288 with 1 Axes>"
      ]
     },
     "metadata": {
      "needs_background": "light"
     },
     "output_type": "display_data"
    }
   ],
   "source": [
    "######## EDIT THIS BLOCK OF CODE\n",
    "\n",
    "# Create a numpy array called more_freq with the values more frequent in nums\n",
    "def my_histogram(arr):\n",
    "    %pylab inline\n",
    "    \n",
    "    _ = plt.hist(nums)\n",
    "    return None\n",
    "\n",
    "    \n",
    "# _ = plt.hist(arr, bins=[min(arr), 30, max(arr)])\n",
    "#array=np.array([more_freq])\n",
    "#print(np.bincount(array).argmax())\n",
    "######## END EDIT BLOCK\n",
    "values, frequencies = np.unique(nums, return_counts=True)\n",
    "#print(values)\n",
    "#print(frequencies)\n",
    "max_freq = max(frequencies)\n",
    "more_freq = [value for value, freq in zip(values, frequencies) if freq == max_freq]\n",
    "#print(value)\n",
    "print(\"The answer is {}\".format(more_freq))\n",
    "my_histogram(more_freq)"
   ]
  },
  {
   "cell_type": "code",
   "execution_count": null,
   "metadata": {},
   "outputs": [],
   "source": []
  }
 ],
 "metadata": {
  "kernelspec": {
   "display_name": "Python 3",
   "language": "python",
   "name": "python3"
  },
  "language_info": {
   "codemirror_mode": {
    "name": "ipython",
    "version": 3
   },
   "file_extension": ".py",
   "mimetype": "text/x-python",
   "name": "python",
   "nbconvert_exporter": "python",
   "pygments_lexer": "ipython3",
   "version": "3.7.1"
  }
 },
 "nbformat": 4,
 "nbformat_minor": 2
}
